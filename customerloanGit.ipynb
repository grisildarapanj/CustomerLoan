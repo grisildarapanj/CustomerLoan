{
 "cells": [
  {
   "cell_type": "markdown",
   "metadata": {},
   "source": [
    "# Importing"
   ]
  },
  {
   "cell_type": "code",
   "execution_count": 1,
   "metadata": {
    "ExecuteTime": {
     "end_time": "2021-05-31T09:22:30.436945Z",
     "start_time": "2021-05-31T09:22:29.656031Z"
    }
   },
   "outputs": [],
   "source": [
    "import pandas as pd\n",
    "import matplotlib.pyplot as plt\n",
    "import seaborn as sns\n",
    "plt.style.use('fivethirtyeight')\n",
    "import warnings\n",
    "warnings.filterwarnings('ignore')\n",
    "%matplotlib inline\n",
    "from scipy.stats import pointbiserialr, spearmanr\n",
    "#importing all the required ML packages\n",
    "from sklearn.linear_model import LogisticRegression #logistic regression\n",
    "from sklearn import svm #support vector Machine\n",
    "from sklearn.ensemble import RandomForestClassifier #Random Forest\n",
    "from sklearn.neighbors import KNeighborsClassifier #KNN\n",
    "from sklearn.naive_bayes import GaussianNB #Naive bayes\n",
    "from sklearn.tree import DecisionTreeClassifier #Decision Tree\n",
    "from sklearn.tree import DecisionTreeRegressor\n",
    "from xgboost import XGBClassifier\n",
    "from sklearn.model_selection import train_test_split #training and testing data split\n",
    "from sklearn import metrics #accuracy measure\n",
    "from sklearn.metrics import confusion_matrix #for confusion matrix\n",
    "from sklearn.svm import SVC\n",
    "from sklearn.metrics import accuracy_score, confusion_matrix"
   ]
  },
  {
   "cell_type": "code",
   "execution_count": 2,
   "metadata": {
    "ExecuteTime": {
     "end_time": "2021-05-31T09:22:30.445951Z",
     "start_time": "2021-05-31T09:22:30.440335Z"
    }
   },
   "outputs": [],
   "source": [
    "#===>A fixed-rate mortgage charges a set rate of interest that does not change throughout the life of the loan.\n",
    "#===>The initial interest rate on an adjustable-rate mortgage (ARM) is set below the market rate on a comparable \n",
    "#fixed-rate loan, and then the rate rises (or possibly lowers) as time goes on.\n",
    "#===>A jumbo loan is a type of financing that exceeds the limits set by the Federal Housing Finance Agency and \n",
    "#cannot be purchased, guaranteed, or securitized by Fannie Mae or Freddie Mac."
   ]
  },
  {
   "cell_type": "code",
   "execution_count": 3,
   "metadata": {
    "ExecuteTime": {
     "end_time": "2021-05-31T09:22:30.452546Z",
     "start_time": "2021-05-31T09:22:30.447312Z"
    }
   },
   "outputs": [],
   "source": [
    "#The minimum credit score to qualify for a personal loan is typically 610 to 640, according to an anonymized \n",
    "#dataset of NerdWallet users who pre-qualified for personal loans."
   ]
  },
  {
   "cell_type": "code",
   "execution_count": 4,
   "metadata": {
    "ExecuteTime": {
     "end_time": "2021-05-31T09:22:30.457139Z",
     "start_time": "2021-05-31T09:22:30.454654Z"
    }
   },
   "outputs": [],
   "source": [
    "#LoanTerm -> kohezgjatja ne muaj e Loan"
   ]
  },
  {
   "cell_type": "markdown",
   "metadata": {},
   "source": [
    "# Read the data"
   ]
  },
  {
   "cell_type": "code",
   "execution_count": 5,
   "metadata": {
    "ExecuteTime": {
     "end_time": "2021-05-31T09:22:30.527089Z",
     "start_time": "2021-05-31T09:22:30.458404Z"
    }
   },
   "outputs": [
    {
     "data": {
      "text/html": [
       "<div>\n",
       "<style scoped>\n",
       "    .dataframe tbody tr th:only-of-type {\n",
       "        vertical-align: middle;\n",
       "    }\n",
       "\n",
       "    .dataframe tbody tr th {\n",
       "        vertical-align: top;\n",
       "    }\n",
       "\n",
       "    .dataframe thead th {\n",
       "        text-align: right;\n",
       "    }\n",
       "</style>\n",
       "<table border=\"1\" class=\"dataframe\">\n",
       "  <thead>\n",
       "    <tr style=\"text-align: right;\">\n",
       "      <th></th>\n",
       "      <th>custid</th>\n",
       "      <th>Income</th>\n",
       "      <th>CreditScore</th>\n",
       "      <th>Debt</th>\n",
       "      <th>Date</th>\n",
       "      <th>LoanTerm</th>\n",
       "      <th>InterestRate</th>\n",
       "      <th>CreditIncidents</th>\n",
       "      <th>HomeValue</th>\n",
       "      <th>LoanAmount</th>\n",
       "      <th>ProductType</th>\n",
       "      <th>LoanStatus</th>\n",
       "    </tr>\n",
       "  </thead>\n",
       "  <tbody>\n",
       "    <tr>\n",
       "      <th>0</th>\n",
       "      <td>92886957</td>\n",
       "      <td>43415</td>\n",
       "      <td>658</td>\n",
       "      <td>23878.25</td>\n",
       "      <td>2017-09-01</td>\n",
       "      <td>180</td>\n",
       "      <td>0.036</td>\n",
       "      <td>3</td>\n",
       "      <td>179930.0</td>\n",
       "      <td>71972.0</td>\n",
       "      <td>Government_insured</td>\n",
       "      <td>Approved</td>\n",
       "    </tr>\n",
       "    <tr>\n",
       "      <th>1</th>\n",
       "      <td>16462625</td>\n",
       "      <td>564164</td>\n",
       "      <td>786</td>\n",
       "      <td>5641.64</td>\n",
       "      <td>2019-09-13</td>\n",
       "      <td>480</td>\n",
       "      <td>0.038</td>\n",
       "      <td>5</td>\n",
       "      <td>386400.0</td>\n",
       "      <td>38640.0</td>\n",
       "      <td>Fixed_rate</td>\n",
       "      <td>Approved</td>\n",
       "    </tr>\n",
       "    <tr>\n",
       "      <th>2</th>\n",
       "      <td>89457436</td>\n",
       "      <td>466344</td>\n",
       "      <td>676</td>\n",
       "      <td>233172.00</td>\n",
       "      <td>2018-06-05</td>\n",
       "      <td>180</td>\n",
       "      <td>0.037</td>\n",
       "      <td>4</td>\n",
       "      <td>375840.0</td>\n",
       "      <td>75168.0</td>\n",
       "      <td>Government_insured</td>\n",
       "      <td>Approved</td>\n",
       "    </tr>\n",
       "    <tr>\n",
       "      <th>3</th>\n",
       "      <td>68462543</td>\n",
       "      <td>756171</td>\n",
       "      <td>694</td>\n",
       "      <td>378085.50</td>\n",
       "      <td>2018-04-26</td>\n",
       "      <td>180</td>\n",
       "      <td>0.036</td>\n",
       "      <td>2</td>\n",
       "      <td>675540.0</td>\n",
       "      <td>67554.0</td>\n",
       "      <td>Government_insured</td>\n",
       "      <td>Approved</td>\n",
       "    </tr>\n",
       "    <tr>\n",
       "      <th>4</th>\n",
       "      <td>63315493</td>\n",
       "      <td>58948</td>\n",
       "      <td>688</td>\n",
       "      <td>30063.48</td>\n",
       "      <td>2017-06-08</td>\n",
       "      <td>420</td>\n",
       "      <td>0.035</td>\n",
       "      <td>0</td>\n",
       "      <td>731690.0</td>\n",
       "      <td>146338.0</td>\n",
       "      <td>Government_insured</td>\n",
       "      <td>Approved</td>\n",
       "    </tr>\n",
       "  </tbody>\n",
       "</table>\n",
       "</div>"
      ],
      "text/plain": [
       "     custid  Income  CreditScore       Debt        Date  LoanTerm  \\\n",
       "0  92886957   43415          658   23878.25  2017-09-01       180   \n",
       "1  16462625  564164          786    5641.64  2019-09-13       480   \n",
       "2  89457436  466344          676  233172.00  2018-06-05       180   \n",
       "3  68462543  756171          694  378085.50  2018-04-26       180   \n",
       "4  63315493   58948          688   30063.48  2017-06-08       420   \n",
       "\n",
       "   InterestRate  CreditIncidents  HomeValue  LoanAmount         ProductType  \\\n",
       "0         0.036                3   179930.0     71972.0  Government_insured   \n",
       "1         0.038                5   386400.0     38640.0          Fixed_rate   \n",
       "2         0.037                4   375840.0     75168.0  Government_insured   \n",
       "3         0.036                2   675540.0     67554.0  Government_insured   \n",
       "4         0.035                0   731690.0    146338.0  Government_insured   \n",
       "\n",
       "  LoanStatus  \n",
       "0   Approved  \n",
       "1   Approved  \n",
       "2   Approved  \n",
       "3   Approved  \n",
       "4   Approved  "
      ]
     },
     "execution_count": 5,
     "metadata": {},
     "output_type": "execute_result"
    }
   ],
   "source": [
    "# read the file\n",
    "df = pd.read_csv('customer-loans.csv')\n",
    "df.head()"
   ]
  },
  {
   "cell_type": "markdown",
   "metadata": {},
   "source": [
    "# Overview"
   ]
  },
  {
   "cell_type": "code",
   "execution_count": 6,
   "metadata": {
    "ExecuteTime": {
     "end_time": "2021-05-31T09:22:30.609733Z",
     "start_time": "2021-05-31T09:22:30.529102Z"
    }
   },
   "outputs": [
    {
     "data": {
      "text/html": [
       "<div>\n",
       "<style scoped>\n",
       "    .dataframe tbody tr th:only-of-type {\n",
       "        vertical-align: middle;\n",
       "    }\n",
       "\n",
       "    .dataframe tbody tr th {\n",
       "        vertical-align: top;\n",
       "    }\n",
       "\n",
       "    .dataframe thead th {\n",
       "        text-align: right;\n",
       "    }\n",
       "</style>\n",
       "<table border=\"1\" class=\"dataframe\">\n",
       "  <thead>\n",
       "    <tr style=\"text-align: right;\">\n",
       "      <th></th>\n",
       "      <th>Datatypes</th>\n",
       "      <th>Unique</th>\n",
       "      <th>Max</th>\n",
       "      <th>Min</th>\n",
       "      <th>Total</th>\n",
       "      <th>mean</th>\n",
       "      <th>MissingValues</th>\n",
       "      <th>MissingValuesTotal</th>\n",
       "    </tr>\n",
       "  </thead>\n",
       "  <tbody>\n",
       "    <tr>\n",
       "      <th>custid</th>\n",
       "      <td>int64</td>\n",
       "      <td>48303</td>\n",
       "      <td>99999810</td>\n",
       "      <td>2684</td>\n",
       "      <td>48427</td>\n",
       "      <td>50033737.00</td>\n",
       "      <td>False</td>\n",
       "      <td>0</td>\n",
       "    </tr>\n",
       "    <tr>\n",
       "      <th>Income</th>\n",
       "      <td>int64</td>\n",
       "      <td>40138</td>\n",
       "      <td>949942</td>\n",
       "      <td>10000</td>\n",
       "      <td>48427</td>\n",
       "      <td>48407.00</td>\n",
       "      <td>False</td>\n",
       "      <td>0</td>\n",
       "    </tr>\n",
       "    <tr>\n",
       "      <th>CreditScore</th>\n",
       "      <td>int64</td>\n",
       "      <td>180</td>\n",
       "      <td>799</td>\n",
       "      <td>620</td>\n",
       "      <td>48427</td>\n",
       "      <td>667.00</td>\n",
       "      <td>False</td>\n",
       "      <td>0</td>\n",
       "    </tr>\n",
       "    <tr>\n",
       "      <th>Debt</th>\n",
       "      <td>float64</td>\n",
       "      <td>47475</td>\n",
       "      <td>924100</td>\n",
       "      <td>0</td>\n",
       "      <td>48427</td>\n",
       "      <td>22052.25</td>\n",
       "      <td>False</td>\n",
       "      <td>0</td>\n",
       "    </tr>\n",
       "    <tr>\n",
       "      <th>Date</th>\n",
       "      <td>object</td>\n",
       "      <td>1000</td>\n",
       "      <td>2019-11-26</td>\n",
       "      <td>2017-03-02</td>\n",
       "      <td>48427</td>\n",
       "      <td>NaN</td>\n",
       "      <td>False</td>\n",
       "      <td>0</td>\n",
       "    </tr>\n",
       "    <tr>\n",
       "      <th>LoanTerm</th>\n",
       "      <td>int64</td>\n",
       "      <td>4</td>\n",
       "      <td>480</td>\n",
       "      <td>180</td>\n",
       "      <td>48427</td>\n",
       "      <td>420.00</td>\n",
       "      <td>False</td>\n",
       "      <td>0</td>\n",
       "    </tr>\n",
       "    <tr>\n",
       "      <th>InterestRate</th>\n",
       "      <td>float64</td>\n",
       "      <td>11</td>\n",
       "      <td>0.045</td>\n",
       "      <td>0.035</td>\n",
       "      <td>48427</td>\n",
       "      <td>0.04</td>\n",
       "      <td>False</td>\n",
       "      <td>0</td>\n",
       "    </tr>\n",
       "    <tr>\n",
       "      <th>CreditIncidents</th>\n",
       "      <td>int64</td>\n",
       "      <td>7</td>\n",
       "      <td>6</td>\n",
       "      <td>0</td>\n",
       "      <td>48427</td>\n",
       "      <td>2.00</td>\n",
       "      <td>False</td>\n",
       "      <td>0</td>\n",
       "    </tr>\n",
       "    <tr>\n",
       "      <th>HomeValue</th>\n",
       "      <td>float64</td>\n",
       "      <td>2328</td>\n",
       "      <td>3e+06</td>\n",
       "      <td>72900</td>\n",
       "      <td>48427</td>\n",
       "      <td>416150.00</td>\n",
       "      <td>False</td>\n",
       "      <td>0</td>\n",
       "    </tr>\n",
       "    <tr>\n",
       "      <th>LoanAmount</th>\n",
       "      <td>float64</td>\n",
       "      <td>13765</td>\n",
       "      <td>2.7e+06</td>\n",
       "      <td>8262</td>\n",
       "      <td>48427</td>\n",
       "      <td>193320.00</td>\n",
       "      <td>False</td>\n",
       "      <td>0</td>\n",
       "    </tr>\n",
       "    <tr>\n",
       "      <th>ProductType</th>\n",
       "      <td>object</td>\n",
       "      <td>4</td>\n",
       "      <td>Jumbo</td>\n",
       "      <td>Adjustable_rate</td>\n",
       "      <td>48427</td>\n",
       "      <td>NaN</td>\n",
       "      <td>False</td>\n",
       "      <td>0</td>\n",
       "    </tr>\n",
       "    <tr>\n",
       "      <th>LoanStatus</th>\n",
       "      <td>object</td>\n",
       "      <td>2</td>\n",
       "      <td>Rejected</td>\n",
       "      <td>Approved</td>\n",
       "      <td>48427</td>\n",
       "      <td>NaN</td>\n",
       "      <td>False</td>\n",
       "      <td>0</td>\n",
       "    </tr>\n",
       "  </tbody>\n",
       "</table>\n",
       "</div>"
      ],
      "text/plain": [
       "                Datatypes  Unique         Max              Min  Total  \\\n",
       "custid              int64   48303    99999810             2684  48427   \n",
       "Income              int64   40138      949942            10000  48427   \n",
       "CreditScore         int64     180         799              620  48427   \n",
       "Debt              float64   47475      924100                0  48427   \n",
       "Date               object    1000  2019-11-26       2017-03-02  48427   \n",
       "LoanTerm            int64       4         480              180  48427   \n",
       "InterestRate      float64      11       0.045            0.035  48427   \n",
       "CreditIncidents     int64       7           6                0  48427   \n",
       "HomeValue         float64    2328       3e+06            72900  48427   \n",
       "LoanAmount        float64   13765     2.7e+06             8262  48427   \n",
       "ProductType        object       4       Jumbo  Adjustable_rate  48427   \n",
       "LoanStatus         object       2    Rejected         Approved  48427   \n",
       "\n",
       "                        mean  MissingValues  MissingValuesTotal  \n",
       "custid           50033737.00          False                   0  \n",
       "Income              48407.00          False                   0  \n",
       "CreditScore           667.00          False                   0  \n",
       "Debt                22052.25          False                   0  \n",
       "Date                     NaN          False                   0  \n",
       "LoanTerm              420.00          False                   0  \n",
       "InterestRate            0.04          False                   0  \n",
       "CreditIncidents         2.00          False                   0  \n",
       "HomeValue          416150.00          False                   0  \n",
       "LoanAmount         193320.00          False                   0  \n",
       "ProductType              NaN          False                   0  \n",
       "LoanStatus               NaN          False                   0  "
      ]
     },
     "execution_count": 6,
     "metadata": {},
     "output_type": "execute_result"
    }
   ],
   "source": [
    "# overview before cleaning\n",
    "# axis=0 -> generate for each column\n",
    "df_before = pd.DataFrame(index=df.columns)\n",
    "df_before['Datatypes'] = df.dtypes\n",
    "df_before['Unique'] = df.nunique()\n",
    "df_before['Max'] = df.max(axis=0)\n",
    "df_before['Min'] = df.min(axis=0)\n",
    "df_before['Total'] = df.count(axis=0)\n",
    "df_before['mean'] = df.median()\n",
    "df_before['MissingValues'] = df.isnull().any()\n",
    "df_before['MissingValuesTotal'] = df.isnull().sum()\n",
    "df_before"
   ]
  },
  {
   "cell_type": "code",
   "execution_count": 7,
   "metadata": {
    "ExecuteTime": {
     "end_time": "2021-05-31T09:22:30.618212Z",
     "start_time": "2021-05-31T09:22:30.612546Z"
    }
   },
   "outputs": [
    {
     "data": {
      "text/plain": [
       "array(['Government_insured', 'Fixed_rate', 'Adjustable_rate', 'Jumbo'],\n",
       "      dtype=object)"
      ]
     },
     "execution_count": 7,
     "metadata": {},
     "output_type": "execute_result"
    }
   ],
   "source": [
    "df.ProductType.unique()"
   ]
  },
  {
   "cell_type": "code",
   "execution_count": 8,
   "metadata": {
    "ExecuteTime": {
     "end_time": "2021-05-31T09:22:30.646049Z",
     "start_time": "2021-05-31T09:22:30.620403Z"
    }
   },
   "outputs": [
    {
     "data": {
      "text/html": [
       "<div>\n",
       "<style scoped>\n",
       "    .dataframe tbody tr th:only-of-type {\n",
       "        vertical-align: middle;\n",
       "    }\n",
       "\n",
       "    .dataframe tbody tr th {\n",
       "        vertical-align: top;\n",
       "    }\n",
       "\n",
       "    .dataframe thead th {\n",
       "        text-align: right;\n",
       "    }\n",
       "</style>\n",
       "<table border=\"1\" class=\"dataframe\">\n",
       "  <thead>\n",
       "    <tr style=\"text-align: right;\">\n",
       "      <th></th>\n",
       "      <th>custid</th>\n",
       "      <th>Income</th>\n",
       "      <th>CreditScore</th>\n",
       "      <th>Debt</th>\n",
       "      <th>Date</th>\n",
       "      <th>LoanTerm</th>\n",
       "      <th>InterestRate</th>\n",
       "      <th>CreditIncidents</th>\n",
       "      <th>HomeValue</th>\n",
       "      <th>LoanAmount</th>\n",
       "      <th>ProductType</th>\n",
       "      <th>LoanStatus</th>\n",
       "    </tr>\n",
       "  </thead>\n",
       "  <tbody>\n",
       "    <tr>\n",
       "      <th>0</th>\n",
       "      <td>92886957</td>\n",
       "      <td>43415</td>\n",
       "      <td>658</td>\n",
       "      <td>23878.25</td>\n",
       "      <td>2017-09-01</td>\n",
       "      <td>180</td>\n",
       "      <td>0.036</td>\n",
       "      <td>3</td>\n",
       "      <td>179930.0</td>\n",
       "      <td>71972.0</td>\n",
       "      <td>Government_insured</td>\n",
       "      <td>Approved</td>\n",
       "    </tr>\n",
       "    <tr>\n",
       "      <th>1</th>\n",
       "      <td>16462625</td>\n",
       "      <td>564164</td>\n",
       "      <td>786</td>\n",
       "      <td>5641.64</td>\n",
       "      <td>2019-09-13</td>\n",
       "      <td>480</td>\n",
       "      <td>0.038</td>\n",
       "      <td>5</td>\n",
       "      <td>386400.0</td>\n",
       "      <td>38640.0</td>\n",
       "      <td>Fixed_rate</td>\n",
       "      <td>Approved</td>\n",
       "    </tr>\n",
       "    <tr>\n",
       "      <th>2</th>\n",
       "      <td>89457436</td>\n",
       "      <td>466344</td>\n",
       "      <td>676</td>\n",
       "      <td>233172.00</td>\n",
       "      <td>2018-06-05</td>\n",
       "      <td>180</td>\n",
       "      <td>0.037</td>\n",
       "      <td>4</td>\n",
       "      <td>375840.0</td>\n",
       "      <td>75168.0</td>\n",
       "      <td>Government_insured</td>\n",
       "      <td>Approved</td>\n",
       "    </tr>\n",
       "    <tr>\n",
       "      <th>3</th>\n",
       "      <td>68462543</td>\n",
       "      <td>756171</td>\n",
       "      <td>694</td>\n",
       "      <td>378085.50</td>\n",
       "      <td>2018-04-26</td>\n",
       "      <td>180</td>\n",
       "      <td>0.036</td>\n",
       "      <td>2</td>\n",
       "      <td>675540.0</td>\n",
       "      <td>67554.0</td>\n",
       "      <td>Government_insured</td>\n",
       "      <td>Approved</td>\n",
       "    </tr>\n",
       "    <tr>\n",
       "      <th>4</th>\n",
       "      <td>63315493</td>\n",
       "      <td>58948</td>\n",
       "      <td>688</td>\n",
       "      <td>30063.48</td>\n",
       "      <td>2017-06-08</td>\n",
       "      <td>420</td>\n",
       "      <td>0.035</td>\n",
       "      <td>0</td>\n",
       "      <td>731690.0</td>\n",
       "      <td>146338.0</td>\n",
       "      <td>Government_insured</td>\n",
       "      <td>Approved</td>\n",
       "    </tr>\n",
       "    <tr>\n",
       "      <th>...</th>\n",
       "      <td>...</td>\n",
       "      <td>...</td>\n",
       "      <td>...</td>\n",
       "      <td>...</td>\n",
       "      <td>...</td>\n",
       "      <td>...</td>\n",
       "      <td>...</td>\n",
       "      <td>...</td>\n",
       "      <td>...</td>\n",
       "      <td>...</td>\n",
       "      <td>...</td>\n",
       "      <td>...</td>\n",
       "    </tr>\n",
       "    <tr>\n",
       "      <th>48418</th>\n",
       "      <td>26373256</td>\n",
       "      <td>27174</td>\n",
       "      <td>667</td>\n",
       "      <td>14673.96</td>\n",
       "      <td>2018-08-26</td>\n",
       "      <td>480</td>\n",
       "      <td>0.038</td>\n",
       "      <td>4</td>\n",
       "      <td>654670.0</td>\n",
       "      <td>261868.0</td>\n",
       "      <td>Adjustable_rate</td>\n",
       "      <td>Approved</td>\n",
       "    </tr>\n",
       "    <tr>\n",
       "      <th>48419</th>\n",
       "      <td>88108360</td>\n",
       "      <td>15493</td>\n",
       "      <td>782</td>\n",
       "      <td>1859.16</td>\n",
       "      <td>2018-05-02</td>\n",
       "      <td>360</td>\n",
       "      <td>0.043</td>\n",
       "      <td>3</td>\n",
       "      <td>605700.0</td>\n",
       "      <td>242280.0</td>\n",
       "      <td>Fixed_rate</td>\n",
       "      <td>Approved</td>\n",
       "    </tr>\n",
       "    <tr>\n",
       "      <th>48420</th>\n",
       "      <td>98038848</td>\n",
       "      <td>59557</td>\n",
       "      <td>664</td>\n",
       "      <td>32160.78</td>\n",
       "      <td>2018-10-13</td>\n",
       "      <td>180</td>\n",
       "      <td>0.044</td>\n",
       "      <td>2</td>\n",
       "      <td>627000.0</td>\n",
       "      <td>438900.0</td>\n",
       "      <td>Adjustable_rate</td>\n",
       "      <td>Approved</td>\n",
       "    </tr>\n",
       "    <tr>\n",
       "      <th>48421</th>\n",
       "      <td>90503375</td>\n",
       "      <td>26287</td>\n",
       "      <td>656</td>\n",
       "      <td>10777.67</td>\n",
       "      <td>2018-07-18</td>\n",
       "      <td>480</td>\n",
       "      <td>0.042</td>\n",
       "      <td>3</td>\n",
       "      <td>561600.0</td>\n",
       "      <td>224640.0</td>\n",
       "      <td>Fixed_rate</td>\n",
       "      <td>Approved</td>\n",
       "    </tr>\n",
       "    <tr>\n",
       "      <th>48423</th>\n",
       "      <td>77114334</td>\n",
       "      <td>352008</td>\n",
       "      <td>796</td>\n",
       "      <td>38720.88</td>\n",
       "      <td>2019-10-02</td>\n",
       "      <td>480</td>\n",
       "      <td>0.042</td>\n",
       "      <td>2</td>\n",
       "      <td>675540.0</td>\n",
       "      <td>135108.0</td>\n",
       "      <td>Adjustable_rate</td>\n",
       "      <td>Approved</td>\n",
       "    </tr>\n",
       "  </tbody>\n",
       "</table>\n",
       "<p>37624 rows × 12 columns</p>\n",
       "</div>"
      ],
      "text/plain": [
       "         custid  Income  CreditScore       Debt        Date  LoanTerm  \\\n",
       "0      92886957   43415          658   23878.25  2017-09-01       180   \n",
       "1      16462625  564164          786    5641.64  2019-09-13       480   \n",
       "2      89457436  466344          676  233172.00  2018-06-05       180   \n",
       "3      68462543  756171          694  378085.50  2018-04-26       180   \n",
       "4      63315493   58948          688   30063.48  2017-06-08       420   \n",
       "...         ...     ...          ...        ...         ...       ...   \n",
       "48418  26373256   27174          667   14673.96  2018-08-26       480   \n",
       "48419  88108360   15493          782    1859.16  2018-05-02       360   \n",
       "48420  98038848   59557          664   32160.78  2018-10-13       180   \n",
       "48421  90503375   26287          656   10777.67  2018-07-18       480   \n",
       "48423  77114334  352008          796   38720.88  2019-10-02       480   \n",
       "\n",
       "       InterestRate  CreditIncidents  HomeValue  LoanAmount  \\\n",
       "0             0.036                3   179930.0     71972.0   \n",
       "1             0.038                5   386400.0     38640.0   \n",
       "2             0.037                4   375840.0     75168.0   \n",
       "3             0.036                2   675540.0     67554.0   \n",
       "4             0.035                0   731690.0    146338.0   \n",
       "...             ...              ...        ...         ...   \n",
       "48418         0.038                4   654670.0    261868.0   \n",
       "48419         0.043                3   605700.0    242280.0   \n",
       "48420         0.044                2   627000.0    438900.0   \n",
       "48421         0.042                3   561600.0    224640.0   \n",
       "48423         0.042                2   675540.0    135108.0   \n",
       "\n",
       "              ProductType LoanStatus  \n",
       "0      Government_insured   Approved  \n",
       "1              Fixed_rate   Approved  \n",
       "2      Government_insured   Approved  \n",
       "3      Government_insured   Approved  \n",
       "4      Government_insured   Approved  \n",
       "...                   ...        ...  \n",
       "48418     Adjustable_rate   Approved  \n",
       "48419          Fixed_rate   Approved  \n",
       "48420     Adjustable_rate   Approved  \n",
       "48421          Fixed_rate   Approved  \n",
       "48423     Adjustable_rate   Approved  \n",
       "\n",
       "[37624 rows x 12 columns]"
      ]
     },
     "execution_count": 8,
     "metadata": {},
     "output_type": "execute_result"
    }
   ],
   "source": [
    "df.loc[df.LoanStatus == 'Approved']"
   ]
  },
  {
   "cell_type": "markdown",
   "metadata": {},
   "source": [
    "# Distribution of the variables (histogram)"
   ]
  },
  {
   "cell_type": "code",
   "execution_count": 9,
   "metadata": {
    "ExecuteTime": {
     "end_time": "2021-05-31T09:22:31.765671Z",
     "start_time": "2021-05-31T09:22:30.648180Z"
    },
    "scrolled": true
   },
   "outputs": [
    {
     "name": "stdout",
     "output_type": "stream",
     "text": [
      "This column Date can not be represented as a histogram\n",
      "This column ProductType can not be represented as a histogram\n",
      "This column LoanStatus can not be represented as a histogram\n"
     ]
    },
    {
     "data": {
      "image/png": "[encoded data removed]",
      "text/plain": [
       "<Figure size 432x288 with 1 Axes>"
      ]
     },
     "metadata": {
      "needs_background": "light"
     },
     "output_type": "display_data"
    },
    {
     "data": {
      "image/png": "[encoded data removed]",
      "text/plain": [
       "<Figure size 432x288 with 1 Axes>"
      ]
     },
     "metadata": {
      "needs_background": "light"
     },
     "output_type": "display_data"
    },
    {
     "data": {
      "image/png": "[encoded data removed]",
      "text/plain": [
       "<Figure size 432x288 with 1 Axes>"
      ]
     },
     "metadata": {
      "needs_background": "light"
     },
     "output_type": "display_data"
    },
    {
     "data": {
      "image/png": "[encoded data removed]",
      "text/plain": [
       "<Figure size 432x288 with 1 Axes>"
      ]
     },
     "metadata": {
      "needs_background": "light"
     },
     "output_type": "display_data"
    },
    {
     "data": {
      "image/png": "[encoded data removed]",
      "text/plain": [
       "<Figure size 432x288 with 1 Axes>"
      ]
     },
     "metadata": {
      "needs_background": "light"
     },
     "output_type": "display_data"
    },
    {
     "data": {
      "image/png": "[encoded data removed]",
      "text/plain": [
       "<Figure size 432x288 with 1 Axes>"
      ]
     },
     "metadata": {
      "needs_background": "light"
     },
     "output_type": "display_data"
    },
    {
     "data": {
      "image/png": "[encoded data removed]",
      "text/plain": [
       "<Figure size 432x288 with 1 Axes>"
      ]
     },
     "metadata": {
      "needs_background": "light"
     },
     "output_type": "display_data"
    },
    {
     "data": {
      "image/png": "[encoded data removed]",
      "text/plain": [
       "<Figure size 432x288 with 1 Axes>"
      ]
     },
     "metadata": {
      "needs_background": "light"
     },
     "output_type": "display_data"
    },
    {
     "data": {
      "image/png": "[encoded data removed]",
      "text/plain": [
       "<Figure size 432x288 with 1 Axes>"
      ]
     },
     "metadata": {
      "needs_background": "light"
     },
     "output_type": "display_data"
    }
   ],
   "source": [
    "for col in df.columns: \n",
    "    try:      \n",
    "        df[col] = pd.to_numeric(df[col]) \n",
    "        df.hist(column=col)\n",
    "    except ValueError:\n",
    "        print('This column '+col+' can not be represented as a histogram')"
   ]
  },
  {
   "cell_type": "markdown",
   "metadata": {},
   "source": [
    "#  Categorial to number and drop columns"
   ]
  },
  {
   "cell_type": "code",
   "execution_count": 10,
   "metadata": {
    "ExecuteTime": {
     "end_time": "2021-05-31T09:22:31.776277Z",
     "start_time": "2021-05-31T09:22:31.768221Z"
    }
   },
   "outputs": [
    {
     "data": {
      "text/plain": [
       "custid               int64\n",
       "Income               int64\n",
       "CreditScore          int64\n",
       "Debt               float64\n",
       "Date                object\n",
       "LoanTerm             int64\n",
       "InterestRate       float64\n",
       "CreditIncidents      int64\n",
       "HomeValue          float64\n",
       "LoanAmount         float64\n",
       "ProductType         object\n",
       "LoanStatus          object\n",
       "dtype: object"
      ]
     },
     "execution_count": 10,
     "metadata": {},
     "output_type": "execute_result"
    }
   ],
   "source": [
    "df.dtypes"
   ]
  },
  {
   "cell_type": "code",
   "execution_count": 11,
   "metadata": {
    "ExecuteTime": {
     "end_time": "2021-05-31T09:22:31.784285Z",
     "start_time": "2021-05-31T09:22:31.778382Z"
    }
   },
   "outputs": [],
   "source": [
    "df_model = df"
   ]
  },
  {
   "cell_type": "code",
   "execution_count": 12,
   "metadata": {
    "ExecuteTime": {
     "end_time": "2021-05-31T09:22:31.797056Z",
     "start_time": "2021-05-31T09:22:31.785805Z"
    }
   },
   "outputs": [],
   "source": [
    "df_model['ProductType'] = df_model['ProductType'].astype('category')\n",
    "df_model['LoanStatus'] = df_model['LoanStatus'].astype('category')"
   ]
  },
  {
   "cell_type": "code",
   "execution_count": 13,
   "metadata": {
    "ExecuteTime": {
     "end_time": "2021-05-31T09:22:31.801838Z",
     "start_time": "2021-05-31T09:22:31.798545Z"
    }
   },
   "outputs": [],
   "source": [
    "df_model.ProductType = df_model['ProductType'].cat.codes\n",
    "df_model.LoanStatus = df_model['LoanStatus'].cat.codes"
   ]
  },
  {
   "cell_type": "code",
   "execution_count": 14,
   "metadata": {
    "ExecuteTime": {
     "end_time": "2021-05-31T09:22:31.808274Z",
     "start_time": "2021-05-31T09:22:31.803110Z"
    }
   },
   "outputs": [],
   "source": [
    "df_model = df_model.drop(['custid', 'Date'], axis=1)"
   ]
  },
  {
   "cell_type": "code",
   "execution_count": 15,
   "metadata": {
    "ExecuteTime": {
     "end_time": "2021-05-31T09:22:31.815482Z",
     "start_time": "2021-05-31T09:22:31.809975Z"
    }
   },
   "outputs": [
    {
     "data": {
      "text/plain": [
       "Income               int64\n",
       "CreditScore          int64\n",
       "Debt               float64\n",
       "LoanTerm             int64\n",
       "InterestRate       float64\n",
       "CreditIncidents      int64\n",
       "HomeValue          float64\n",
       "LoanAmount         float64\n",
       "ProductType           int8\n",
       "LoanStatus            int8\n",
       "dtype: object"
      ]
     },
     "execution_count": 15,
     "metadata": {},
     "output_type": "execute_result"
    }
   ],
   "source": [
    "df_model.dtypes"
   ]
  },
  {
   "cell_type": "markdown",
   "metadata": {},
   "source": [
    "# Check the correlation"
   ]
  },
  {
   "cell_type": "code",
   "execution_count": 16,
   "metadata": {
    "ExecuteTime": {
     "end_time": "2021-05-31T09:22:32.450498Z",
     "start_time": "2021-05-31T09:22:31.817093Z"
    },
    "scrolled": false
   },
   "outputs": [
    {
     "data": {
      "image/png": "[encoded data removed]",
      "text/plain": [
       "<Figure size 864x648 with 2 Axes>"
      ]
     },
     "metadata": {
      "needs_background": "light"
     },
     "output_type": "display_data"
    }
   ],
   "source": [
    "hmap = df_model.corr()\n",
    "plt.subplots(figsize=(12, 9))\n",
    "sns.heatmap(hmap, vmax=.8,annot=True,cmap=\"BrBG\", square=True);"
   ]
  },
  {
   "cell_type": "markdown",
   "metadata": {},
   "source": [
    "# Splitting the Data"
   ]
  },
  {
   "cell_type": "code",
   "execution_count": 17,
   "metadata": {
    "ExecuteTime": {
     "end_time": "2021-05-31T09:22:32.459859Z",
     "start_time": "2021-05-31T09:22:32.453290Z"
    }
   },
   "outputs": [],
   "source": [
    "df_model = df_model[['LoanStatus', 'Income', 'CreditScore', 'Debt', 'LoanTerm','InterestRate','CreditIncidents'\n",
    "                     ,'HomeValue','LoanAmount','ProductType']]"
   ]
  },
  {
   "cell_type": "code",
   "execution_count": 18,
   "metadata": {
    "ExecuteTime": {
     "end_time": "2021-05-31T09:22:32.491656Z",
     "start_time": "2021-05-31T09:22:32.462334Z"
    }
   },
   "outputs": [],
   "source": [
    "from sklearn.model_selection import train_test_split\n",
    "train,test=train_test_split(df_model,test_size=0.3,random_state=0,stratify=df_model['LoanStatus'])\n",
    "train_X=train[train.columns[1:]]\n",
    "train_Y=train[train.columns[:1]]\n",
    "test_X=test[test.columns[1:]]\n",
    "test_Y=test[test.columns[:1]]\n",
    "X=df_model[df_model.columns[1:]]\n",
    "Y=df_model['LoanStatus']"
   ]
  },
  {
   "cell_type": "code",
   "execution_count": 19,
   "metadata": {
    "ExecuteTime": {
     "end_time": "2021-05-31T09:22:32.505482Z",
     "start_time": "2021-05-31T09:22:32.493442Z"
    }
   },
   "outputs": [],
   "source": [
    "from sklearn.preprocessing import StandardScaler\n",
    "sc = StandardScaler()\n",
    "train_scaled_X = sc.fit_transform(train_X)\n",
    "test_scaled_X = sc.transform(test_X)"
   ]
  },
  {
   "cell_type": "code",
   "execution_count": 20,
   "metadata": {
    "ExecuteTime": {
     "end_time": "2021-05-31T09:22:32.513564Z",
     "start_time": "2021-05-31T09:22:32.506809Z"
    }
   },
   "outputs": [
    {
     "name": "stdout",
     "output_type": "stream",
     "text": [
      "Train slaced data X\n",
      "[[ 2.71304117  1.30589861  1.2765923  ...  2.01285206  1.03612624\n",
      "   1.32012221]\n",
      " [-0.15653712  1.10531857  0.05056331 ... -0.62866259 -0.72172418\n",
      "  -1.16051764]\n",
      " [ 1.31211368  1.41390325 -0.09402016 ...  1.26187443 -0.6653333\n",
      "  -1.16051764]\n",
      " ...\n",
      " [-0.51695013 -0.11359089 -0.25250267 ...  0.93647007  1.09071412\n",
      "   0.07980228]\n",
      " [-0.4875512   0.50357846 -0.44637956 ...  1.86888226  2.97067953\n",
      "   2.56044213]\n",
      " [-0.60379659 -0.85419412 -0.32326154 ... -0.26358503 -0.37668082\n",
      "   0.07980228]]\n",
      "Train data Y\n",
      "       LoanStatus\n",
      "6734            0\n",
      "21379           0\n",
      "19550           0\n",
      "33630           0\n",
      "12674           0\n",
      "...           ...\n",
      "44126           0\n",
      "15548           0\n",
      "28051           0\n",
      "177             0\n",
      "47764           0\n",
      "\n",
      "[33898 rows x 1 columns]\n",
      "Test slaced data X\n",
      "[[-0.63708649 -0.69990178 -0.45840333 ... -0.65500623 -0.61960544\n",
      "   0.07980228]\n",
      " [-0.52363933 -0.77704795 -0.20876589 ... -0.50843361 -0.66576161\n",
      "   1.32012221]\n",
      " [ 2.57976056  1.46019095  1.62127118 ... -0.59174996 -0.70454258\n",
      "   0.07980228]\n",
      " ...\n",
      " [ 1.77641617  1.27504015  0.4452335  ...  2.40637654  3.63784113\n",
      "   2.56044213]\n",
      " [-0.01817131  1.07446011  0.00887211 ... -0.60676215 -0.83339641\n",
      "   1.32012221]\n",
      " [-0.60434687 -1.16277879 -0.24242126 ...  0.83869365  0.30741764\n",
      "   0.07980228]]\n",
      "Test data Y\n",
      "       LoanStatus\n",
      "40942           0\n",
      "25129           0\n",
      "7466            0\n",
      "39086           0\n",
      "14002           0\n",
      "...           ...\n",
      "30708           0\n",
      "42947           0\n",
      "29765           0\n",
      "3662            0\n",
      "15916           1\n",
      "\n",
      "[14529 rows x 1 columns]\n"
     ]
    }
   ],
   "source": [
    "print(\"Train slaced data X\")\n",
    "print(train_scaled_X)\n",
    "print(\"Train data Y\")\n",
    "print(train_Y)\n",
    "print(\"Test slaced data X\")\n",
    "print(test_scaled_X)\n",
    "print(\"Test data Y\")\n",
    "print(test_Y)"
   ]
  },
  {
   "cell_type": "markdown",
   "metadata": {},
   "source": [
    "# SVM"
   ]
  },
  {
   "cell_type": "code",
   "execution_count": 21,
   "metadata": {
    "ExecuteTime": {
     "end_time": "2021-05-31T09:22:43.467732Z",
     "start_time": "2021-05-31T09:22:32.514801Z"
    }
   },
   "outputs": [
    {
     "name": "stdout",
     "output_type": "stream",
     "text": [
      "Accuracy for linear SVM is  0.9047422396586138\n"
     ]
    }
   ],
   "source": [
    "svclassifier = SVC(kernel='linear')\n",
    "svclassifier.fit(train_scaled_X, train_Y)\n",
    "prediction1 = svclassifier.predict(test_scaled_X)\n",
    "print('Accuracy for linear SVM is ',metrics.accuracy_score(prediction1,test_Y))"
   ]
  },
  {
   "cell_type": "code",
   "execution_count": 22,
   "metadata": {
    "ExecuteTime": {
     "end_time": "2021-05-31T09:22:51.565880Z",
     "start_time": "2021-05-31T09:22:43.469076Z"
    }
   },
   "outputs": [
    {
     "name": "stdout",
     "output_type": "stream",
     "text": [
      "Accuracy for rbf SVM is  0.933099318604171\n"
     ]
    }
   ],
   "source": [
    "svclassifier = SVC(kernel='rbf', degree=8)\n",
    "svclassifier.fit(train_scaled_X, train_Y)\n",
    "prediction2 = svclassifier.predict(test_scaled_X)\n",
    "print('Accuracy for rbf SVM is ',metrics.accuracy_score(prediction2,test_Y))"
   ]
  },
  {
   "cell_type": "markdown",
   "metadata": {},
   "source": [
    "# Naïve baies"
   ]
  },
  {
   "cell_type": "code",
   "execution_count": 23,
   "metadata": {
    "ExecuteTime": {
     "end_time": "2021-05-31T09:22:51.585828Z",
     "start_time": "2021-05-31T09:22:51.567828Z"
    }
   },
   "outputs": [
    {
     "name": "stdout",
     "output_type": "stream",
     "text": [
      "The accuracy of the NaiveBayes is 0.8727372840525844\n"
     ]
    }
   ],
   "source": [
    "model=GaussianNB()\n",
    "model.fit(train_scaled_X,train_Y)\n",
    "prediction3=model.predict(test_scaled_X)\n",
    "print('The accuracy of the NaiveBayes is',metrics.accuracy_score(prediction3,test_Y))"
   ]
  },
  {
   "cell_type": "code",
   "execution_count": 24,
   "metadata": {
    "ExecuteTime": {
     "end_time": "2021-05-31T09:22:51.589259Z",
     "start_time": "2021-05-31T09:22:51.587250Z"
    }
   },
   "outputs": [],
   "source": [
    "# GaussianNB_result = test_Y\n",
    "# GaussianNB_result['prediction'] = pd.Series(prediction3, index=GaussianNB_result.index)\n",
    "# GaussianNB_result.loc[GaussianNB_result.LoanStatus != GaussianNB_result.prediction]"
   ]
  },
  {
   "cell_type": "markdown",
   "metadata": {},
   "source": [
    "# Logistic regression"
   ]
  },
  {
   "cell_type": "code",
   "execution_count": 25,
   "metadata": {
    "ExecuteTime": {
     "end_time": "2021-05-31T09:22:51.640816Z",
     "start_time": "2021-05-31T09:22:51.590763Z"
    }
   },
   "outputs": [
    {
     "name": "stdout",
     "output_type": "stream",
     "text": [
      "The accuracy of the Logistic Regression is 0.8948310275999725\n"
     ]
    }
   ],
   "source": [
    "model = LogisticRegression()\n",
    "model.fit(train_scaled_X,train_Y)\n",
    "prediction4=model.predict(test_scaled_X)\n",
    "print('The accuracy of the Logistic Regression is',metrics.accuracy_score(prediction4,test_Y))"
   ]
  },
  {
   "cell_type": "markdown",
   "metadata": {},
   "source": [
    "#  Decision tree\n"
   ]
  },
  {
   "cell_type": "code",
   "execution_count": 26,
   "metadata": {
    "ExecuteTime": {
     "end_time": "2021-05-31T09:22:51.784609Z",
     "start_time": "2021-05-31T09:22:51.653317Z"
    }
   },
   "outputs": [
    {
     "name": "stdout",
     "output_type": "stream",
     "text": [
      "The accuracy of the Decision Tree is 0.9390185146947484\n"
     ]
    }
   ],
   "source": [
    "model=DecisionTreeClassifier()\n",
    "model.fit(train_scaled_X,train_Y)\n",
    "prediction5=model.predict(test_scaled_X)\n",
    "print('The accuracy of the Decision Tree is',metrics.accuracy_score(prediction5,test_Y))"
   ]
  },
  {
   "cell_type": "markdown",
   "metadata": {},
   "source": [
    "# Random Forest"
   ]
  },
  {
   "cell_type": "code",
   "execution_count": 27,
   "metadata": {
    "ExecuteTime": {
     "end_time": "2021-05-31T09:22:55.358038Z",
     "start_time": "2021-05-31T09:22:51.785849Z"
    }
   },
   "outputs": [
    {
     "name": "stdout",
     "output_type": "stream",
     "text": [
      "The accuracy of the Random Forests is 0.950788079014385\n"
     ]
    }
   ],
   "source": [
    "model=RandomForestClassifier(n_estimators=100)\n",
    "model.fit(train_scaled_X,train_Y)\n",
    "prediction6=model.predict(test_scaled_X)\n",
    "print('The accuracy of the Random Forests is',metrics.accuracy_score(prediction6,test_Y))"
   ]
  },
  {
   "cell_type": "markdown",
   "metadata": {},
   "source": [
    "# XGBClassifier"
   ]
  },
  {
   "cell_type": "code",
   "execution_count": 28,
   "metadata": {
    "ExecuteTime": {
     "end_time": "2021-05-31T09:22:56.362244Z",
     "start_time": "2021-05-31T09:22:55.360308Z"
    }
   },
   "outputs": [
    {
     "name": "stdout",
     "output_type": "stream",
     "text": [
      "[11:22:55] WARNING: ../src/learner.cc:1095: Starting in XGBoost 1.3.0, the default evaluation metric used with the objective 'binary:logistic' was changed from 'error' to 'logloss'. Explicitly set eval_metric if you'd like to restore the old behavior.\n",
      "The accuracy of the XGBClassifier is  0.9573267258586275\n"
     ]
    }
   ],
   "source": [
    "model = XGBClassifier()\n",
    "model.fit(train_scaled_X,train_Y)\n",
    "prediction7 = model.predict(test_scaled_X)\n",
    "print('The accuracy of the XGBClassifier is ', metrics.accuracy_score(prediction7,test_Y))"
   ]
  },
  {
   "cell_type": "code",
   "execution_count": 29,
   "metadata": {
    "ExecuteTime": {
     "end_time": "2021-05-31T09:22:56.373818Z",
     "start_time": "2021-05-31T09:22:56.363471Z"
    }
   },
   "outputs": [],
   "source": [
    "matrix = confusion_matrix(test_Y, prediction7)\n",
    "# matrix = matrix.astype('float') / matrix.sum(axis=1)[:, np.newaxis]"
   ]
  },
  {
   "cell_type": "code",
   "execution_count": 30,
   "metadata": {
    "ExecuteTime": {
     "end_time": "2021-05-31T09:22:56.379992Z",
     "start_time": "2021-05-31T09:22:56.375420Z"
    }
   },
   "outputs": [
    {
     "data": {
      "text/plain": [
       "array([[11076,   212],\n",
       "       [  408,  2833]])"
      ]
     },
     "execution_count": 30,
     "metadata": {},
     "output_type": "execute_result"
    }
   ],
   "source": [
    "matrix"
   ]
  },
  {
   "cell_type": "code",
   "execution_count": 31,
   "metadata": {
    "ExecuteTime": {
     "end_time": "2021-05-31T09:22:56.501220Z",
     "start_time": "2021-05-31T09:22:56.381861Z"
    }
   },
   "outputs": [
    {
     "data": {
      "text/plain": [
       "<AxesSubplot:>"
      ]
     },
     "execution_count": 31,
     "metadata": {},
     "output_type": "execute_result"
    },
    {
     "data": {
      "image/png": "[encoded data removed]",
      "text/plain": [
       "<Figure size 432x288 with 2 Axes>"
      ]
     },
     "metadata": {
      "needs_background": "light"
     },
     "output_type": "display_data"
    }
   ],
   "source": [
    "sns.heatmap(matrix,annot=True, fmt=\"d\")"
   ]
  }
 ],
 "metadata": {
  "hide_input": false,
  "kernelspec": {
   "display_name": "Python 3",
   "language": "python",
   "name": "python3"
  },
  "language_info": {
   "codemirror_mode": {
    "name": "ipython",
    "version": 3
   },
   "file_extension": ".py",
   "mimetype": "text/x-python",
   "name": "python",
   "nbconvert_exporter": "python",
   "pygments_lexer": "ipython3",
   "version": "3.8.5"
  },
  "toc": {
   "base_numbering": 1,
   "nav_menu": {},
   "number_sections": true,
   "sideBar": true,
   "skip_h1_title": false,
   "title_cell": "Table of Contents",
   "title_sidebar": "Contents",
   "toc_cell": false,
   "toc_position": {},
   "toc_section_display": true,
   "toc_window_display": false
  }
 },
 "nbformat": 4,
 "nbformat_minor": 4
}
